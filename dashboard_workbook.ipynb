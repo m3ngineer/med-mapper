{
 "cells": [
  {
   "cell_type": "code",
   "execution_count": 1,
   "metadata": {},
   "outputs": [],
   "source": [
    "%load_ext autoreload\n",
    "%autoreload 2"
   ]
  },
  {
   "cell_type": "code",
   "execution_count": 2,
   "metadata": {
    "collapsed": true
   },
   "outputs": [],
   "source": [
    "from src.dashboard import *"
   ]
  },
  {
   "cell_type": "markdown",
   "metadata": {},
   "source": [
    "## Create US map visualization"
   ]
  },
  {
   "cell_type": "code",
   "execution_count": 5,
   "metadata": {
    "collapsed": true
   },
   "outputs": [],
   "source": [
    "hp_dict = {1043218316: {'city': 'HILTON HEAD ISLAND',\n",
    "  'first_name': 'GARY',\n",
    "  'last_name': 'THOMAS',\n",
    "  'prob': 0.80937601698075567,\n",
    "  'prob_hp': 0.80937601698075567,\n",
    "  'speciality': 'Hematology',\n",
    "  'state': 'SC',\n",
    "  'zip': 29926},\n",
    " 1093761124: {'city': 'KNOXVILLE',\n",
    "  'first_name': 'WAHID',\n",
    "  'last_name': 'HANNA',\n",
    "  'prob': 0.75450736998723311,\n",
    "  'prob_hp': 0.75450736998723311,\n",
    "  'speciality': 'Hematology/Oncology',\n",
    "  'state': 'TN',\n",
    "  'zip': 37920},\n",
    " 1093778458: {'city': 'POUGHKEEPSIE',\n",
    "  'first_name': 'TAUSEEF',\n",
    "  'last_name': 'AHMED',\n",
    "  'prob': 0.5455233735799484,\n",
    "  'speciality': 'Medical Oncology',\n",
    "  'state': 'NY',\n",
    "  'zip': 12601},\n",
    " 1164484614: {'city': 'LITTLE ROCK',\n",
    "  'first_name': 'BRAD',\n",
    "  'last_name': 'BALTZ',\n",
    "  'prob': 0.85685783925382708,\n",
    "  'speciality': 'Hematology/Oncology',\n",
    "  'state': 'AR',\n",
    "  'zip': 72205},\n",
    " 1184680399: {'city': 'LA JOLLA',\n",
    "  'first_name': 'ALAN',\n",
    "  'last_name': 'SAVEN',\n",
    "  'prob': 0.65541787968856258,\n",
    "  'speciality': 'Hematology/Oncology',\n",
    "  'state': 'CA',\n",
    "  'zip': 92037},\n",
    " 1295701522: {'city': 'SIOUX FALLS',\n",
    "  'first_name': 'KELLY',\n",
    "  'last_name': 'MCCAUL',\n",
    "  'prob': 0.74819784369591169,\n",
    "  'prob_hp': 0.74819784369591169,\n",
    "  'speciality': 'Hematology',\n",
    "  'state': 'SD',\n",
    "  'zip': 57105},\n",
    " 1356332506: {'city': 'LEESBURG',\n",
    "  'first_name': 'MAEN',\n",
    "  'last_name': 'HUSSEIN',\n",
    "  'prob': 0.88090130827395463,\n",
    "  'speciality': 'Hematology/Oncology',\n",
    "  'state': 'FL',\n",
    "  'zip': 34748},\n",
    " 1427076736: {'city': 'PARAMUS',\n",
    "  'first_name': 'BARRY',\n",
    "  'last_name': 'FERNBACH',\n",
    "  'prob': 0.055371841920789699,\n",
    "  'prob_hp': 0.055371841920789699,\n",
    "  'speciality': 'Hematology/Oncology',\n",
    "  'state': 'NJ',\n",
    "  'zip': 7652},\n",
    " 1427266956: {'city': 'AGUADILLA',\n",
    "  'first_name': 'VICTOR',\n",
    "  'last_name': 'VAZQUEZ-RODRIGUEZ',\n",
    "  'speciality': 'Hematology/Oncology',\n",
    "  'state': 'PR',\n",
    "  'zip': 603},\n",
    " 1720039126: {'city': 'EASTON',\n",
    "  'first_name': 'RODRIGO',\n",
    "  'last_name': 'ERLICH',\n",
    "  'prob': 0.7458440146865204,\n",
    "  'speciality': 'Medical Oncology',\n",
    "  'state': 'MD',\n",
    "  'zip': 21601},\n",
    " 1811952591: {'city': 'FLINT',\n",
    "  'first_name': 'PAUL',\n",
    "  'last_name': 'ADAMS',\n",
    "  'prob': 0.65124903599321948,\n",
    "  'prob_hp': 0.65124903599321948,\n",
    "  'speciality': 'Hematology/Oncology',\n",
    "  'state': 'MI',\n",
    "  'zip': 48503},\n",
    " 1841297702: {'city': 'WHITE PLAINS',\n",
    "  'first_name': 'ANNEYAMMA',\n",
    "  'last_name': 'MANNANCHERIL',\n",
    "  'prob': 0.89746589590475434,\n",
    "  'speciality': 'Hematology/Oncology',\n",
    "  'state': 'NY',\n",
    "  'zip': 10604},\n",
    " 1861695678: {'city': 'LOS ANGELES',\n",
    "  'first_name': 'WARREN',\n",
    "  'last_name': 'BANTA',\n",
    "  'prob': 0.8702093287595436,\n",
    "  'prob_hp': 0.8702093287595436,\n",
    "  'speciality': 'Hematology/Oncology',\n",
    "  'state': 'CA',\n",
    "  'zip': 90033},\n",
    " 1871577544: {'city': 'MADISON HEIGHTS',\n",
    "  'first_name': 'JEFFREY',\n",
    "  'last_name': 'MARGOLIS',\n",
    "  'prob': 0.85278608002955514,\n",
    "  'speciality': 'Hematology/Oncology',\n",
    "  'state': 'MI',\n",
    "  'zip': 48071},\n",
    " 1871607598: {'city': 'GREENWOOD',\n",
    "  'first_name': 'SYED',\n",
    "  'last_name': 'RAFIQUE',\n",
    "  'prob': 0.79358947882815734,\n",
    "  'speciality': 'Hematology/Oncology',\n",
    "  'state': 'MS',\n",
    "  'zip': 38930}}"
   ]
  },
  {
   "cell_type": "code",
   "execution_count": 6,
   "metadata": {
    "scrolled": true
   },
   "outputs": [],
   "source": [
    "zipcode_df = create_zipcode_df(hp_dict)"
   ]
  },
  {
   "cell_type": "code",
   "execution_count": 7,
   "metadata": {},
   "outputs": [
    {
     "data": {
      "text/plain": [
       "'{\"data\": [{\"type\": \"scattergeo\", \"locationmode\": \"USA-states\", \"lon\": [-80.7325287, -83.86850720000001, -73.92422509999999, -92.3542193, -117.255854, -96.72264100000001, -81.87706709999998, -74.06526159999999, -67.1179511, -76.07640359999998, -83.6720756, -73.7419017, -118.2117257, -83.10591540000001, -90.18696440000001], \"lat\": [32.23063640000001, 35.9113041, 41.716514399999994, 34.74865629999999, 32.828325899999996, 43.52161900000001, 28.789850800000004, 40.9541697, 18.468242899999996, 38.774209899999995, 43.0145534, 41.0603977, 34.0502898, 42.5053384, 33.5726622], \"mode\": \"markers\", \"ids\": [29926, 37920, 12601, 72205, 92037, 57105, 34748, 7652, 603, 21601, 48503, 10604, 90033, 48071, 38930], \"text\": [\"THOMAS, GARY, 29926\", \"HANNA, WAHID, 37920\", \"AHMED, TAUSEEF, 12601\", \"BALTZ, BRAD, 72205\", \"SAVEN, ALAN, 92037\", \"MCCAUL, KELLY, 57105\", \"HUSSEIN, MAEN, 34748\", \"FERNBACH, BARRY, 7652\", \"VAZQUEZ-RODRIGUEZ, VICTOR, 603\", \"ERLICH, RODRIGO, 21601\", \"ADAMS, PAUL, 48503\", \"MANNANCHERIL, ANNEYAMMA, 10604\", \"BANTA, WARREN, 90033\", \"MARGOLIS, JEFFREY, 48071\", \"RAFIQUE, SYED, 38930\"], \"hoverinfo\": \"text\", \"marker\": {\"size\": 8, \"opacity\": 0.6, \"reversescale\": true, \"autocolorscale\": false, \"symbol\": \"circle\", \"line\": {\"width\": 1, \"color\": \"rgba(102, 102, 102)\"}}}], \"layout\": {\"colorbar\": false, \"autosize\": true, \"width\": 500, \"height\": 300, \"margin\": {\"l\": 5, \"r\": 5, \"b\": 0, \"t\": 0, \"pad\": 0}, \"displayModeBar\": false, \"xaxis\": {\"fixedrange\": true}, \"yaxis\": {\"fixedrange\": true}, \"dragmode\": \"pan\", \"geo\": {\"scope\": \"usa\", \"projection\": {\"type\": \"albers usa\"}, \"showland\": true, \"landcolor\": \"rgb(250, 250, 250)\", \"subunitcolor\": \"rgb(217, 217, 217)\", \"countrycolor\": \"rgb(217, 217, 217)\", \"countrywidth\": 0.5, \"subunitwidth\": 0.5}}}'"
      ]
     },
     "execution_count": 7,
     "metadata": {},
     "output_type": "execute_result"
    }
   ],
   "source": [
    "show_map(hp_dict)"
   ]
  },
  {
   "cell_type": "code",
   "execution_count": 49,
   "metadata": {},
   "outputs": [
    {
     "data": {
      "text/html": [
       "<iframe id=\"igraph\" scrolling=\"no\" style=\"border:none;\" seamless=\"seamless\" src=\"https://plot.ly/~meng2/14.embed\" height=\"525px\" width=\"100%\"></iframe>"
      ],
      "text/plain": [
       "<plotly.tools.PlotlyDisplay object>"
      ]
     },
     "execution_count": 49,
     "metadata": {},
     "output_type": "execute_result"
    }
   ],
   "source": [
    "data = [ dict(\n",
    "        type = 'scattergeo',\n",
    "        locationmode = 'USA-states',\n",
    "        lon = zipcode_df['longitude'],\n",
    "        lat = zipcode_df['latitude'],\n",
    "        #text = df['text'],\n",
    "        mode = 'markers',\n",
    "        marker = dict(\n",
    "            size = 8,\n",
    "            opacity = 0.6,\n",
    "            reversescale = True,\n",
    "            autocolorscale = False,\n",
    "            symbol = 'circle',\n",
    "            line = dict(\n",
    "                width=1,\n",
    "                color='rgba(102, 102, 102)'\n",
    "            )),\n",
    "        )]\n",
    "\n",
    "layout = dict(\n",
    "        title = 'Locations of Predicted Physicians for Imbruvica',\n",
    "        colorbar = True,\n",
    "        xaxis = dict(\n",
    "            fixedrange = True\n",
    "            ),\n",
    "        yaxis = dict(\n",
    "            fixedrange = True\n",
    "        ),\n",
    "        dragmode = 'pan',\n",
    "        geo = dict(\n",
    "            scope='usa',\n",
    "            projection=dict( type='albers usa' ),\n",
    "            showland = True,\n",
    "            landcolor = \"rgb(250, 250, 250)\",\n",
    "            subunitcolor = \"rgb(217, 217, 217)\",\n",
    "            countrycolor = \"rgb(217, 217, 217)\",\n",
    "            countrywidth = 0.5,\n",
    "            subunitwidth = 0.5\n",
    "        ),\n",
    "    )\n",
    "\n",
    "fig = dict( data=data, layout=layout )\n",
    "py.iplot( fig, validate=False, filename='location_physicians' )"
   ]
  },
  {
   "cell_type": "markdown",
   "metadata": {},
   "source": [
    "## Find total spending"
   ]
  },
  {
   "cell_type": "code",
   "execution_count": 8,
   "metadata": {
    "collapsed": true,
    "scrolled": true
   },
   "outputs": [],
   "source": [
    "prescriber_data = pd.read_csv('data/heme-onc_d_16.csv', delimiter='\\t')"
   ]
  },
  {
   "cell_type": "code",
   "execution_count": 9,
   "metadata": {
    "collapsed": true
   },
   "outputs": [],
   "source": [
    "pd.set_option('max_info_columns', 105)\n",
    "pd.set_option('max_info_rows', 105)"
   ]
  },
  {
   "cell_type": "code",
   "execution_count": 11,
   "metadata": {},
   "outputs": [
    {
     "name": "stdout",
     "output_type": "stream",
     "text": [
      "<class 'pandas.core.frame.DataFrame'>\n",
      "RangeIndex: 240108 entries, 0 to 240107\n",
      "Data columns (total 105 columns):\n",
      "npi                                 int64\n",
      "nppes_provider_last_org_name        object\n",
      "nppes_provider_first_name           object\n",
      "nppes_provider_city                 object\n",
      "nppes_provider_state                object\n",
      "specialty_description               object\n",
      "description_flag                    object\n",
      "drug_name                           object\n",
      "generic_name                        object\n",
      "bene_count                          float64\n",
      "total_claim_count                   int64\n",
      "total_30_day_fill_count             float64\n",
      "total_day_supply                    int64\n",
      "total_drug_cost                     float64\n",
      "bene_count_ge65                     float64\n",
      "bene_count_ge65_suppress_flag       object\n",
      "total_claim_count_ge65              float64\n",
      "ge65_suppress_flag                  object\n",
      "total_30_day_fill_count_ge65        float64\n",
      "total_day_supply_ge65               float64\n",
      "total_drug_cost_ge65                float64\n",
      "npi.1                               int64\n",
      "nppes_provider_last_org_name.1      object\n",
      "nppes_provider_first_name.1         object\n",
      "nppes_provider_mi                   object\n",
      "nppes_credentials                   object\n",
      "nppes_provider_gender               object\n",
      "nppes_entity_code                   object\n",
      "nppes_provider_street1              object\n",
      "nppes_provider_street2              object\n",
      "nppes_provider_city.1               object\n",
      "nppes_provider_zip5                 int64\n",
      "nppes_provider_zip4                 float64\n",
      "nppes_provider_state.1              object\n",
      "nppes_provider_country              object\n",
      "specialty_description.1             object\n",
      "description_flag.1                  object\n",
      "medicare_prvdr_enroll_status        object\n",
      "total_claim_count.1                 int64\n",
      "total_30_day_fill_count.1           float64\n",
      "total_drug_cost.1                   float64\n",
      "total_day_supply.1                  int64\n",
      "bene_count.1                        float64\n",
      "ge65_suppress_flag.1                object\n",
      "total_claim_count_ge65.1            float64\n",
      "total_30_day_fill_count_ge65.1      float64\n",
      "total_drug_cost_ge65.1              float64\n",
      "total_day_supply_ge65.1             float64\n",
      "bene_count_ge65_suppress_flag.1     object\n",
      "bene_count_ge65.1                   float64\n",
      "brand_suppress_flag                 object\n",
      "brand_claim_count                   float64\n",
      "brand_drug_cost                     float64\n",
      "generic_suppress_flag               object\n",
      "generic_claim_count                 float64\n",
      "generic_drug_cost                   float64\n",
      "other_suppress_flag                 object\n",
      "other_claim_count                   float64\n",
      "other_drug_cost                     float64\n",
      "mapd_suppress_flag                  object\n",
      "mapd_claim_count                    float64\n",
      "mapd_drug_cost                      float64\n",
      "pdp_suppress_flag                   object\n",
      "pdp_claim_count                     float64\n",
      "pdp_drug_cost                       float64\n",
      "lis_suppress_flag                   object\n",
      "lis_claim_count                     float64\n",
      "lis_drug_cost                       float64\n",
      "nonlis_suppress_flag                object\n",
      "nonlis_claim_count                  float64\n",
      "nonlis_drug_cost                    float64\n",
      "opioid_claim_count                  float64\n",
      "opioid_drug_cost                    float64\n",
      "opioid_day_supply                   float64\n",
      "opioid_bene_count                   float64\n",
      "opioid_prescriber_rate              float64\n",
      "er_opioid_claim_count               float64\n",
      "er_opioid_drug_cost                 float64\n",
      "er_opioid_day_supply                float64\n",
      "er_opioid_bene_count                float64\n",
      "er_opioid_prescriber_rate           float64\n",
      "antibiotic_claim_count              float64\n",
      "antibiotic_drug_cost                float64\n",
      "antibiotic_bene_count               float64\n",
      "antipsych_ge65_suppress_flag        object\n",
      "antipsych_claim_count_ge65          float64\n",
      "antipsych_drug_cost_ge65            float64\n",
      "antipsych_bene_ge65_suppress_flg    object\n",
      "antipsych_bene_count_ge65           float64\n",
      "average_age_of_beneficiaries        float64\n",
      "beneficiary_age_less_65_count       float64\n",
      "beneficiary_age_65_74_count         float64\n",
      "beneficiary_age_75_84_count         float64\n",
      "beneficiary_age_greater_84_count    float64\n",
      "beneficiary_female_count            float64\n",
      "beneficiary_male_count              float64\n",
      "beneficiary_race_white_count        float64\n",
      "beneficiary_race_black_count        float64\n",
      "beneficiary_race_asian_pi_count     float64\n",
      "beneficiary_race_hispanic_count     float64\n",
      "beneficiary_race_nat_ind_count      float64\n",
      "beneficiary_race_other_count        float64\n",
      "beneficiary_nondual_count           float64\n",
      "beneficiary_dual_count              float64\n",
      "beneficiary_average_risk_score      float64\n",
      "dtypes: float64(63), int64(7), object(35)\n",
      "memory usage: 192.3+ MB\n"
     ]
    }
   ],
   "source": [
    "prescriber_data.info()"
   ]
  },
  {
   "cell_type": "code",
   "execution_count": 12,
   "metadata": {
    "collapsed": true
   },
   "outputs": [],
   "source": [
    "high_prescribers_target = prescriber_data[(prescriber_data['drug_name'] == 'IMBRUVICA') & (prescriber_data['npi'].isin(hp_dict))]\n",
    "all_prescribers_target = prescriber_data[prescriber_data['drug_name'] == 'IMBRUVICA']\n"
   ]
  },
  {
   "cell_type": "code",
   "execution_count": 30,
   "metadata": {},
   "outputs": [
    {
     "ename": "TypeError",
     "evalue": "cannot convert the series to <class 'int'>",
     "output_type": "error",
     "traceback": [
      "\u001b[0;31m---------------------------------------------------------------------------\u001b[0m",
      "\u001b[0;31mTypeError\u001b[0m                                 Traceback (most recent call last)",
      "\u001b[0;32m<ipython-input-30-904f882a157f>\u001b[0m in \u001b[0;36m<module>\u001b[0;34m()\u001b[0m\n\u001b[1;32m      3\u001b[0m \u001b[0;34m\u001b[0m\u001b[0m\n\u001b[1;32m      4\u001b[0m \u001b[0;31m# find summary percent greater statistics than mean\u001b[0m\u001b[0;34m\u001b[0m\u001b[0;34m\u001b[0m\u001b[0m\n\u001b[0;32m----> 5\u001b[0;31m \u001b[0;34m(\u001b[0m\u001b[0;34m(\u001b[0m\u001b[0mint\u001b[0m\u001b[0;34m(\u001b[0m\u001b[0mhp_target_means\u001b[0m\u001b[0;34m)\u001b[0m \u001b[0;34m-\u001b[0m \u001b[0map_target_means\u001b[0m\u001b[0;34m)\u001b[0m \u001b[0;34m/\u001b[0m \u001b[0map_target_means\u001b[0m \u001b[0;34m*\u001b[0m \u001b[0;36m100\u001b[0m\u001b[0;34m)\u001b[0m\u001b[0;34m.\u001b[0m\u001b[0mround\u001b[0m\u001b[0;34m(\u001b[0m\u001b[0;34m)\u001b[0m\u001b[0;34m\u001b[0m\u001b[0m\n\u001b[0m",
      "\u001b[0;32m/Users/mattheweng/anaconda/lib/python3.6/site-packages/pandas/core/series.py\u001b[0m in \u001b[0;36mwrapper\u001b[0;34m(self)\u001b[0m\n\u001b[1;32m     95\u001b[0m             \u001b[0;32mreturn\u001b[0m \u001b[0mconverter\u001b[0m\u001b[0;34m(\u001b[0m\u001b[0mself\u001b[0m\u001b[0;34m.\u001b[0m\u001b[0miloc\u001b[0m\u001b[0;34m[\u001b[0m\u001b[0;36m0\u001b[0m\u001b[0;34m]\u001b[0m\u001b[0;34m)\u001b[0m\u001b[0;34m\u001b[0m\u001b[0m\n\u001b[1;32m     96\u001b[0m         raise TypeError(\"cannot convert the series to \"\n\u001b[0;32m---> 97\u001b[0;31m                         \"{0}\".format(str(converter)))\n\u001b[0m\u001b[1;32m     98\u001b[0m \u001b[0;34m\u001b[0m\u001b[0m\n\u001b[1;32m     99\u001b[0m     \u001b[0;32mreturn\u001b[0m \u001b[0mwrapper\u001b[0m\u001b[0;34m\u001b[0m\u001b[0m\n",
      "\u001b[0;31mTypeError\u001b[0m: cannot convert the series to <class 'int'>"
     ]
    }
   ],
   "source": [
    "hp_target_means = high_prescribers_target[['total_claim_count', 'nonlis_drug_cost', 'pdp_drug_cost', 'mapd_drug_cost', 'brand_drug_cost', 'generic_drug_cost', 'total_drug_cost']].mean()\n",
    "ap_target_means = all_prescribers_target[['total_claim_count', 'nonlis_drug_cost', 'pdp_drug_cost', 'mapd_drug_cost', 'brand_drug_cost', 'generic_drug_cost', 'total_drug_cost']].mean()\n",
    "\n",
    "# find summary percent greater statistics than mean\n",
    "((hp_target_means - ap_target_means) / ap_target_means * 100).round()"
   ]
  },
  {
   "cell_type": "code",
   "execution_count": 18,
   "metadata": {
    "collapsed": true
   },
   "outputs": [],
   "source": [
    "hp_target_sums = high_prescribers_target[['total_claim_count', 'nonlis_drug_cost', 'pdp_drug_cost', 'mapd_drug_cost', 'brand_drug_cost', 'generic_drug_cost', 'total_drug_cost']].sum()\n",
    "ap_target_sums = all_prescribers_target[['total_claim_count', 'nonlis_drug_cost', 'pdp_drug_cost', 'mapd_drug_cost', 'brand_drug_cost', 'generic_drug_cost', 'total_drug_cost']].sum()"
   ]
  },
  {
   "cell_type": "code",
   "execution_count": 26,
   "metadata": {},
   "outputs": [
    {
     "data": {
      "text/plain": [
       "total_claim_count    1.2\n",
       "total_drug_cost      1.2\n",
       "dtype: float64"
      ]
     },
     "execution_count": 26,
     "metadata": {},
     "output_type": "execute_result"
    }
   ],
   "source": [
    "# find summary statistics on percentage of total_claims and total_drug_costs for drug that these physicians made\n",
    "(hp_target_sums/ap_target_sums * 100)[['total_claim_count', 'total_drug_cost']].round(1)"
   ]
  },
  {
   "cell_type": "code",
   "execution_count": 135,
   "metadata": {},
   "outputs": [
    {
     "data": {
      "text/plain": [
       "total_claim_count    1.178394\n",
       "nonlis_drug_cost     1.419657\n",
       "pdp_drug_cost        1.591428\n",
       "mapd_drug_cost       1.437768\n",
       "brand_drug_cost      1.762920\n",
       "generic_drug_cost    0.900107\n",
       "total_drug_cost      1.168804\n",
       "dtype: float64"
      ]
     },
     "execution_count": 135,
     "metadata": {},
     "output_type": "execute_result"
    }
   ],
   "source": [
    "hp_target_sums/ap_target_sums*100"
   ]
  },
  {
   "cell_type": "code",
   "execution_count": 137,
   "metadata": {},
   "outputs": [
    {
     "data": {
      "text/plain": [
       "total_claim_count    0.01\n",
       "total_drug_cost      0.01\n",
       "dtype: float64"
      ]
     },
     "execution_count": 137,
     "metadata": {},
     "output_type": "execute_result"
    }
   ],
   "source": [
    "((hp_target_sums/ap_target_sums)[['total_claim_count', 'total_drug_cost']]).round(2)"
   ]
  },
  {
   "cell_type": "code",
   "execution_count": 92,
   "metadata": {
    "collapsed": true
   },
   "outputs": [],
   "source": [
    "import plotly\n",
    "import plotly.figure_factory as ff"
   ]
  },
  {
   "cell_type": "code",
   "execution_count": 86,
   "metadata": {
    "collapsed": true
   },
   "outputs": [],
   "source": [
    "df = pd.read_csv(\"https://raw.githubusercontent.com/plotly/datasets/master/school_earnings.csv\")"
   ]
  },
  {
   "cell_type": "code",
   "execution_count": 110,
   "metadata": {},
   "outputs": [
    {
     "data": {
      "application/vnd.plotly.v1+json": {
       "data": [
        {
         "colorscale": [
          [
           0,
           "#00083e"
          ],
          [
           0.5,
           "#ededee"
          ],
          [
           1,
           "#ffffff"
          ]
         ],
         "hoverinfo": "none",
         "opacity": 0.75,
         "showscale": false,
         "type": "heatmap",
         "uid": "297d840a-ad83-11e8-9dac-f40f2406221b",
         "z": [
          [
           0,
           0,
           0,
           0
          ],
          [
           0.5,
           0.5,
           0.5,
           0.5
          ],
          [
           1,
           1,
           1,
           1
          ],
          [
           0.5,
           0.5,
           0.5,
           0.5
          ],
          [
           1,
           1,
           1,
           1
          ],
          [
           0.5,
           0.5,
           0.5,
           0.5
          ],
          [
           1,
           1,
           1,
           1
          ],
          [
           0.5,
           0.5,
           0.5,
           0.5
          ],
          [
           1,
           1,
           1,
           1
          ],
          [
           0.5,
           0.5,
           0.5,
           0.5
          ],
          [
           1,
           1,
           1,
           1
          ],
          [
           0.5,
           0.5,
           0.5,
           0.5
          ],
          [
           1,
           1,
           1,
           1
          ],
          [
           0.5,
           0.5,
           0.5,
           0.5
          ],
          [
           1,
           1,
           1,
           1
          ],
          [
           0.5,
           0.5,
           0.5,
           0.5
          ],
          [
           1,
           1,
           1,
           1
          ],
          [
           0.5,
           0.5,
           0.5,
           0.5
          ],
          [
           1,
           1,
           1,
           1
          ],
          [
           0.5,
           0.5,
           0.5,
           0.5
          ],
          [
           1,
           1,
           1,
           1
          ],
          [
           0.5,
           0.5,
           0.5,
           0.5
          ]
         ]
        }
       ],
       "layout": {
        "annotations": [
         {
          "align": "left",
          "font": {
           "color": "#ffffff"
          },
          "showarrow": false,
          "text": "<b>School</b>",
          "x": -0.45,
          "xanchor": "left",
          "xref": "x",
          "y": 0,
          "yref": "y"
         },
         {
          "align": "left",
          "font": {
           "color": "#ffffff"
          },
          "showarrow": false,
          "text": "<b>Women</b>",
          "x": 0.55,
          "xanchor": "left",
          "xref": "x",
          "y": 0,
          "yref": "y"
         },
         {
          "align": "left",
          "font": {
           "color": "#ffffff"
          },
          "showarrow": false,
          "text": "<b>Men</b>",
          "x": 1.55,
          "xanchor": "left",
          "xref": "x",
          "y": 0,
          "yref": "y"
         },
         {
          "align": "left",
          "font": {
           "color": "#ffffff"
          },
          "showarrow": false,
          "text": "<b>Gap</b>",
          "x": 2.55,
          "xanchor": "left",
          "xref": "x",
          "y": 0,
          "yref": "y"
         },
         {
          "align": "left",
          "font": {
           "color": "#000000"
          },
          "showarrow": false,
          "text": "MIT",
          "x": -0.45,
          "xanchor": "left",
          "xref": "x",
          "y": 1,
          "yref": "y"
         },
         {
          "align": "left",
          "font": {
           "color": "#000000"
          },
          "showarrow": false,
          "text": "94",
          "x": 0.55,
          "xanchor": "left",
          "xref": "x",
          "y": 1,
          "yref": "y"
         },
         {
          "align": "left",
          "font": {
           "color": "#000000"
          },
          "showarrow": false,
          "text": "152",
          "x": 1.55,
          "xanchor": "left",
          "xref": "x",
          "y": 1,
          "yref": "y"
         },
         {
          "align": "left",
          "font": {
           "color": "#000000"
          },
          "showarrow": false,
          "text": "58",
          "x": 2.55,
          "xanchor": "left",
          "xref": "x",
          "y": 1,
          "yref": "y"
         },
         {
          "align": "left",
          "font": {
           "color": "#000000"
          },
          "showarrow": false,
          "text": "Stanford",
          "x": -0.45,
          "xanchor": "left",
          "xref": "x",
          "y": 2,
          "yref": "y"
         },
         {
          "align": "left",
          "font": {
           "color": "#000000"
          },
          "showarrow": false,
          "text": "96",
          "x": 0.55,
          "xanchor": "left",
          "xref": "x",
          "y": 2,
          "yref": "y"
         },
         {
          "align": "left",
          "font": {
           "color": "#000000"
          },
          "showarrow": false,
          "text": "151",
          "x": 1.55,
          "xanchor": "left",
          "xref": "x",
          "y": 2,
          "yref": "y"
         },
         {
          "align": "left",
          "font": {
           "color": "#000000"
          },
          "showarrow": false,
          "text": "55",
          "x": 2.55,
          "xanchor": "left",
          "xref": "x",
          "y": 2,
          "yref": "y"
         },
         {
          "align": "left",
          "font": {
           "color": "#000000"
          },
          "showarrow": false,
          "text": "Harvard",
          "x": -0.45,
          "xanchor": "left",
          "xref": "x",
          "y": 3,
          "yref": "y"
         },
         {
          "align": "left",
          "font": {
           "color": "#000000"
          },
          "showarrow": false,
          "text": "112",
          "x": 0.55,
          "xanchor": "left",
          "xref": "x",
          "y": 3,
          "yref": "y"
         },
         {
          "align": "left",
          "font": {
           "color": "#000000"
          },
          "showarrow": false,
          "text": "165",
          "x": 1.55,
          "xanchor": "left",
          "xref": "x",
          "y": 3,
          "yref": "y"
         },
         {
          "align": "left",
          "font": {
           "color": "#000000"
          },
          "showarrow": false,
          "text": "53",
          "x": 2.55,
          "xanchor": "left",
          "xref": "x",
          "y": 3,
          "yref": "y"
         },
         {
          "align": "left",
          "font": {
           "color": "#000000"
          },
          "showarrow": false,
          "text": "U.Penn",
          "x": -0.45,
          "xanchor": "left",
          "xref": "x",
          "y": 4,
          "yref": "y"
         },
         {
          "align": "left",
          "font": {
           "color": "#000000"
          },
          "showarrow": false,
          "text": "92",
          "x": 0.55,
          "xanchor": "left",
          "xref": "x",
          "y": 4,
          "yref": "y"
         },
         {
          "align": "left",
          "font": {
           "color": "#000000"
          },
          "showarrow": false,
          "text": "141",
          "x": 1.55,
          "xanchor": "left",
          "xref": "x",
          "y": 4,
          "yref": "y"
         },
         {
          "align": "left",
          "font": {
           "color": "#000000"
          },
          "showarrow": false,
          "text": "49",
          "x": 2.55,
          "xanchor": "left",
          "xref": "x",
          "y": 4,
          "yref": "y"
         },
         {
          "align": "left",
          "font": {
           "color": "#000000"
          },
          "showarrow": false,
          "text": "Princeton",
          "x": -0.45,
          "xanchor": "left",
          "xref": "x",
          "y": 5,
          "yref": "y"
         },
         {
          "align": "left",
          "font": {
           "color": "#000000"
          },
          "showarrow": false,
          "text": "90",
          "x": 0.55,
          "xanchor": "left",
          "xref": "x",
          "y": 5,
          "yref": "y"
         },
         {
          "align": "left",
          "font": {
           "color": "#000000"
          },
          "showarrow": false,
          "text": "137",
          "x": 1.55,
          "xanchor": "left",
          "xref": "x",
          "y": 5,
          "yref": "y"
         },
         {
          "align": "left",
          "font": {
           "color": "#000000"
          },
          "showarrow": false,
          "text": "47",
          "x": 2.55,
          "xanchor": "left",
          "xref": "x",
          "y": 5,
          "yref": "y"
         },
         {
          "align": "left",
          "font": {
           "color": "#000000"
          },
          "showarrow": false,
          "text": "Chicago",
          "x": -0.45,
          "xanchor": "left",
          "xref": "x",
          "y": 6,
          "yref": "y"
         },
         {
          "align": "left",
          "font": {
           "color": "#000000"
          },
          "showarrow": false,
          "text": "78",
          "x": 0.55,
          "xanchor": "left",
          "xref": "x",
          "y": 6,
          "yref": "y"
         },
         {
          "align": "left",
          "font": {
           "color": "#000000"
          },
          "showarrow": false,
          "text": "118",
          "x": 1.55,
          "xanchor": "left",
          "xref": "x",
          "y": 6,
          "yref": "y"
         },
         {
          "align": "left",
          "font": {
           "color": "#000000"
          },
          "showarrow": false,
          "text": "40",
          "x": 2.55,
          "xanchor": "left",
          "xref": "x",
          "y": 6,
          "yref": "y"
         },
         {
          "align": "left",
          "font": {
           "color": "#000000"
          },
          "showarrow": false,
          "text": "Georgetown",
          "x": -0.45,
          "xanchor": "left",
          "xref": "x",
          "y": 7,
          "yref": "y"
         },
         {
          "align": "left",
          "font": {
           "color": "#000000"
          },
          "showarrow": false,
          "text": "94",
          "x": 0.55,
          "xanchor": "left",
          "xref": "x",
          "y": 7,
          "yref": "y"
         },
         {
          "align": "left",
          "font": {
           "color": "#000000"
          },
          "showarrow": false,
          "text": "131",
          "x": 1.55,
          "xanchor": "left",
          "xref": "x",
          "y": 7,
          "yref": "y"
         },
         {
          "align": "left",
          "font": {
           "color": "#000000"
          },
          "showarrow": false,
          "text": "37",
          "x": 2.55,
          "xanchor": "left",
          "xref": "x",
          "y": 7,
          "yref": "y"
         },
         {
          "align": "left",
          "font": {
           "color": "#000000"
          },
          "showarrow": false,
          "text": "Tufts",
          "x": -0.45,
          "xanchor": "left",
          "xref": "x",
          "y": 8,
          "yref": "y"
         },
         {
          "align": "left",
          "font": {
           "color": "#000000"
          },
          "showarrow": false,
          "text": "76",
          "x": 0.55,
          "xanchor": "left",
          "xref": "x",
          "y": 8,
          "yref": "y"
         },
         {
          "align": "left",
          "font": {
           "color": "#000000"
          },
          "showarrow": false,
          "text": "112",
          "x": 1.55,
          "xanchor": "left",
          "xref": "x",
          "y": 8,
          "yref": "y"
         },
         {
          "align": "left",
          "font": {
           "color": "#000000"
          },
          "showarrow": false,
          "text": "36",
          "x": 2.55,
          "xanchor": "left",
          "xref": "x",
          "y": 8,
          "yref": "y"
         },
         {
          "align": "left",
          "font": {
           "color": "#000000"
          },
          "showarrow": false,
          "text": "Yale",
          "x": -0.45,
          "xanchor": "left",
          "xref": "x",
          "y": 9,
          "yref": "y"
         },
         {
          "align": "left",
          "font": {
           "color": "#000000"
          },
          "showarrow": false,
          "text": "79",
          "x": 0.55,
          "xanchor": "left",
          "xref": "x",
          "y": 9,
          "yref": "y"
         },
         {
          "align": "left",
          "font": {
           "color": "#000000"
          },
          "showarrow": false,
          "text": "114",
          "x": 1.55,
          "xanchor": "left",
          "xref": "x",
          "y": 9,
          "yref": "y"
         },
         {
          "align": "left",
          "font": {
           "color": "#000000"
          },
          "showarrow": false,
          "text": "35",
          "x": 2.55,
          "xanchor": "left",
          "xref": "x",
          "y": 9,
          "yref": "y"
         },
         {
          "align": "left",
          "font": {
           "color": "#000000"
          },
          "showarrow": false,
          "text": "Columbia",
          "x": -0.45,
          "xanchor": "left",
          "xref": "x",
          "y": 10,
          "yref": "y"
         },
         {
          "align": "left",
          "font": {
           "color": "#000000"
          },
          "showarrow": false,
          "text": "86",
          "x": 0.55,
          "xanchor": "left",
          "xref": "x",
          "y": 10,
          "yref": "y"
         },
         {
          "align": "left",
          "font": {
           "color": "#000000"
          },
          "showarrow": false,
          "text": "119",
          "x": 1.55,
          "xanchor": "left",
          "xref": "x",
          "y": 10,
          "yref": "y"
         },
         {
          "align": "left",
          "font": {
           "color": "#000000"
          },
          "showarrow": false,
          "text": "33",
          "x": 2.55,
          "xanchor": "left",
          "xref": "x",
          "y": 10,
          "yref": "y"
         },
         {
          "align": "left",
          "font": {
           "color": "#000000"
          },
          "showarrow": false,
          "text": "Duke",
          "x": -0.45,
          "xanchor": "left",
          "xref": "x",
          "y": 11,
          "yref": "y"
         },
         {
          "align": "left",
          "font": {
           "color": "#000000"
          },
          "showarrow": false,
          "text": "93",
          "x": 0.55,
          "xanchor": "left",
          "xref": "x",
          "y": 11,
          "yref": "y"
         },
         {
          "align": "left",
          "font": {
           "color": "#000000"
          },
          "showarrow": false,
          "text": "124",
          "x": 1.55,
          "xanchor": "left",
          "xref": "x",
          "y": 11,
          "yref": "y"
         },
         {
          "align": "left",
          "font": {
           "color": "#000000"
          },
          "showarrow": false,
          "text": "31",
          "x": 2.55,
          "xanchor": "left",
          "xref": "x",
          "y": 11,
          "yref": "y"
         },
         {
          "align": "left",
          "font": {
           "color": "#000000"
          },
          "showarrow": false,
          "text": "Dartmouth",
          "x": -0.45,
          "xanchor": "left",
          "xref": "x",
          "y": 12,
          "yref": "y"
         },
         {
          "align": "left",
          "font": {
           "color": "#000000"
          },
          "showarrow": false,
          "text": "84",
          "x": 0.55,
          "xanchor": "left",
          "xref": "x",
          "y": 12,
          "yref": "y"
         },
         {
          "align": "left",
          "font": {
           "color": "#000000"
          },
          "showarrow": false,
          "text": "114",
          "x": 1.55,
          "xanchor": "left",
          "xref": "x",
          "y": 12,
          "yref": "y"
         },
         {
          "align": "left",
          "font": {
           "color": "#000000"
          },
          "showarrow": false,
          "text": "30",
          "x": 2.55,
          "xanchor": "left",
          "xref": "x",
          "y": 12,
          "yref": "y"
         },
         {
          "align": "left",
          "font": {
           "color": "#000000"
          },
          "showarrow": false,
          "text": "NYU",
          "x": -0.45,
          "xanchor": "left",
          "xref": "x",
          "y": 13,
          "yref": "y"
         },
         {
          "align": "left",
          "font": {
           "color": "#000000"
          },
          "showarrow": false,
          "text": "67",
          "x": 0.55,
          "xanchor": "left",
          "xref": "x",
          "y": 13,
          "yref": "y"
         },
         {
          "align": "left",
          "font": {
           "color": "#000000"
          },
          "showarrow": false,
          "text": "94",
          "x": 1.55,
          "xanchor": "left",
          "xref": "x",
          "y": 13,
          "yref": "y"
         },
         {
          "align": "left",
          "font": {
           "color": "#000000"
          },
          "showarrow": false,
          "text": "27",
          "x": 2.55,
          "xanchor": "left",
          "xref": "x",
          "y": 13,
          "yref": "y"
         },
         {
          "align": "left",
          "font": {
           "color": "#000000"
          },
          "showarrow": false,
          "text": "Notre Dame",
          "x": -0.45,
          "xanchor": "left",
          "xref": "x",
          "y": 14,
          "yref": "y"
         },
         {
          "align": "left",
          "font": {
           "color": "#000000"
          },
          "showarrow": false,
          "text": "73",
          "x": 0.55,
          "xanchor": "left",
          "xref": "x",
          "y": 14,
          "yref": "y"
         },
         {
          "align": "left",
          "font": {
           "color": "#000000"
          },
          "showarrow": false,
          "text": "100",
          "x": 1.55,
          "xanchor": "left",
          "xref": "x",
          "y": 14,
          "yref": "y"
         },
         {
          "align": "left",
          "font": {
           "color": "#000000"
          },
          "showarrow": false,
          "text": "27",
          "x": 2.55,
          "xanchor": "left",
          "xref": "x",
          "y": 14,
          "yref": "y"
         },
         {
          "align": "left",
          "font": {
           "color": "#000000"
          },
          "showarrow": false,
          "text": "Cornell",
          "x": -0.45,
          "xanchor": "left",
          "xref": "x",
          "y": 15,
          "yref": "y"
         },
         {
          "align": "left",
          "font": {
           "color": "#000000"
          },
          "showarrow": false,
          "text": "80",
          "x": 0.55,
          "xanchor": "left",
          "xref": "x",
          "y": 15,
          "yref": "y"
         },
         {
          "align": "left",
          "font": {
           "color": "#000000"
          },
          "showarrow": false,
          "text": "107",
          "x": 1.55,
          "xanchor": "left",
          "xref": "x",
          "y": 15,
          "yref": "y"
         },
         {
          "align": "left",
          "font": {
           "color": "#000000"
          },
          "showarrow": false,
          "text": "27",
          "x": 2.55,
          "xanchor": "left",
          "xref": "x",
          "y": 15,
          "yref": "y"
         },
         {
          "align": "left",
          "font": {
           "color": "#000000"
          },
          "showarrow": false,
          "text": "Michigan",
          "x": -0.45,
          "xanchor": "left",
          "xref": "x",
          "y": 16,
          "yref": "y"
         },
         {
          "align": "left",
          "font": {
           "color": "#000000"
          },
          "showarrow": false,
          "text": "62",
          "x": 0.55,
          "xanchor": "left",
          "xref": "x",
          "y": 16,
          "yref": "y"
         },
         {
          "align": "left",
          "font": {
           "color": "#000000"
          },
          "showarrow": false,
          "text": "84",
          "x": 1.55,
          "xanchor": "left",
          "xref": "x",
          "y": 16,
          "yref": "y"
         },
         {
          "align": "left",
          "font": {
           "color": "#000000"
          },
          "showarrow": false,
          "text": "22",
          "x": 2.55,
          "xanchor": "left",
          "xref": "x",
          "y": 16,
          "yref": "y"
         },
         {
          "align": "left",
          "font": {
           "color": "#000000"
          },
          "showarrow": false,
          "text": "Brown",
          "x": -0.45,
          "xanchor": "left",
          "xref": "x",
          "y": 17,
          "yref": "y"
         },
         {
          "align": "left",
          "font": {
           "color": "#000000"
          },
          "showarrow": false,
          "text": "72",
          "x": 0.55,
          "xanchor": "left",
          "xref": "x",
          "y": 17,
          "yref": "y"
         },
         {
          "align": "left",
          "font": {
           "color": "#000000"
          },
          "showarrow": false,
          "text": "92",
          "x": 1.55,
          "xanchor": "left",
          "xref": "x",
          "y": 17,
          "yref": "y"
         },
         {
          "align": "left",
          "font": {
           "color": "#000000"
          },
          "showarrow": false,
          "text": "20",
          "x": 2.55,
          "xanchor": "left",
          "xref": "x",
          "y": 17,
          "yref": "y"
         },
         {
          "align": "left",
          "font": {
           "color": "#000000"
          },
          "showarrow": false,
          "text": "Berkeley",
          "x": -0.45,
          "xanchor": "left",
          "xref": "x",
          "y": 18,
          "yref": "y"
         },
         {
          "align": "left",
          "font": {
           "color": "#000000"
          },
          "showarrow": false,
          "text": "71",
          "x": 0.55,
          "xanchor": "left",
          "xref": "x",
          "y": 18,
          "yref": "y"
         },
         {
          "align": "left",
          "font": {
           "color": "#000000"
          },
          "showarrow": false,
          "text": "88",
          "x": 1.55,
          "xanchor": "left",
          "xref": "x",
          "y": 18,
          "yref": "y"
         },
         {
          "align": "left",
          "font": {
           "color": "#000000"
          },
          "showarrow": false,
          "text": "17",
          "x": 2.55,
          "xanchor": "left",
          "xref": "x",
          "y": 18,
          "yref": "y"
         },
         {
          "align": "left",
          "font": {
           "color": "#000000"
          },
          "showarrow": false,
          "text": "Emory",
          "x": -0.45,
          "xanchor": "left",
          "xref": "x",
          "y": 19,
          "yref": "y"
         },
         {
          "align": "left",
          "font": {
           "color": "#000000"
          },
          "showarrow": false,
          "text": "68",
          "x": 0.55,
          "xanchor": "left",
          "xref": "x",
          "y": 19,
          "yref": "y"
         },
         {
          "align": "left",
          "font": {
           "color": "#000000"
          },
          "showarrow": false,
          "text": "82",
          "x": 1.55,
          "xanchor": "left",
          "xref": "x",
          "y": 19,
          "yref": "y"
         },
         {
          "align": "left",
          "font": {
           "color": "#000000"
          },
          "showarrow": false,
          "text": "14",
          "x": 2.55,
          "xanchor": "left",
          "xref": "x",
          "y": 19,
          "yref": "y"
         },
         {
          "align": "left",
          "font": {
           "color": "#000000"
          },
          "showarrow": false,
          "text": "UCLA",
          "x": -0.45,
          "xanchor": "left",
          "xref": "x",
          "y": 20,
          "yref": "y"
         },
         {
          "align": "left",
          "font": {
           "color": "#000000"
          },
          "showarrow": false,
          "text": "64",
          "x": 0.55,
          "xanchor": "left",
          "xref": "x",
          "y": 20,
          "yref": "y"
         },
         {
          "align": "left",
          "font": {
           "color": "#000000"
          },
          "showarrow": false,
          "text": "78",
          "x": 1.55,
          "xanchor": "left",
          "xref": "x",
          "y": 20,
          "yref": "y"
         },
         {
          "align": "left",
          "font": {
           "color": "#000000"
          },
          "showarrow": false,
          "text": "14",
          "x": 2.55,
          "xanchor": "left",
          "xref": "x",
          "y": 20,
          "yref": "y"
         },
         {
          "align": "left",
          "font": {
           "color": "#000000"
          },
          "showarrow": false,
          "text": "SoCal",
          "x": -0.45,
          "xanchor": "left",
          "xref": "x",
          "y": 21,
          "yref": "y"
         },
         {
          "align": "left",
          "font": {
           "color": "#000000"
          },
          "showarrow": false,
          "text": "72",
          "x": 0.55,
          "xanchor": "left",
          "xref": "x",
          "y": 21,
          "yref": "y"
         },
         {
          "align": "left",
          "font": {
           "color": "#000000"
          },
          "showarrow": false,
          "text": "81",
          "x": 1.55,
          "xanchor": "left",
          "xref": "x",
          "y": 21,
          "yref": "y"
         },
         {
          "align": "left",
          "font": {
           "color": "#000000"
          },
          "showarrow": false,
          "text": "9",
          "x": 2.55,
          "xanchor": "left",
          "xref": "x",
          "y": 21,
          "yref": "y"
         }
        ],
        "height": 710,
        "margin": {
         "b": 0,
         "l": 0,
         "r": 0,
         "t": 0
        },
        "xaxis": {
         "dtick": 1,
         "gridwidth": 2,
         "showticklabels": false,
         "tick0": -0.5,
         "ticks": "",
         "zeroline": false
        },
        "yaxis": {
         "autorange": "reversed",
         "dtick": 1,
         "gridwidth": 2,
         "showticklabels": false,
         "tick0": 0.5,
         "ticks": "",
         "zeroline": false
        }
       }
      }
     },
     "metadata": {},
     "output_type": "display_data"
    }
   ],
   "source": [
    "schools = df.School\n",
    "men = df[\"Men\"]\n",
    "women = df[\"Women\"]\n",
    "gap = df[\"Gap\"]\n",
    "table = ff.create_table(df)\n",
    "plotly.offline.iplot(table)\n",
    "\n",
    "trace_men = go.Bar(x=schools, y=men, name='men')\n",
    "trace_women = go.Bar(x=schools, y=women, name='women')\n",
    "trace_gap = go.Bar(x=schools, y=gap, name='gap')\n",
    "data = [trace_men, trace_women, trace_gap]\n",
    "\n",
    "layout = go.Layout(title=\"Average Earnings for Graduates\",\n",
    "                xaxis=dict(title='School'),\n",
    "                yaxis=dict(title='Salary (in thousands)'))\n",
    "\n",
    "fig = go.Figure(data=data, layout=layout)"
   ]
  },
  {
   "cell_type": "code",
   "execution_count": 113,
   "metadata": {},
   "outputs": [
    {
     "data": {
      "text/html": [
       "<iframe id=\"igraph\" scrolling=\"no\" style=\"border:none;\" seamless=\"seamless\" src=\"https://plot.ly/~meng2/31.embed\" height=\"525px\" width=\"100%\"></iframe>"
      ],
      "text/plain": [
       "<plotly.tools.PlotlyDisplay object>"
      ]
     },
     "execution_count": 113,
     "metadata": {},
     "output_type": "execute_result"
    }
   ],
   "source": [
    "py.iplot(fig)"
   ]
  },
  {
   "cell_type": "code",
   "execution_count": null,
   "metadata": {
    "collapsed": true
   },
   "outputs": [],
   "source": []
  }
 ],
 "metadata": {
  "kernelspec": {
   "display_name": "Python 3",
   "language": "python",
   "name": "python3"
  },
  "language_info": {
   "codemirror_mode": {
    "name": "ipython",
    "version": 3
   },
   "file_extension": ".py",
   "mimetype": "text/x-python",
   "name": "python",
   "nbconvert_exporter": "python",
   "pygments_lexer": "ipython3",
   "version": "3.6.3"
  }
 },
 "nbformat": 4,
 "nbformat_minor": 2
}
