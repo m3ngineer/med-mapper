{
 "cells": [
  {
   "cell_type": "code",
   "execution_count": 1,
   "metadata": {
    "collapsed": true
   },
   "outputs": [],
   "source": [
    "%load_ext autoreload\n",
    "%autoreload 2\n",
    "%matplotlib inline"
   ]
  },
  {
   "cell_type": "code",
   "execution_count": 2,
   "metadata": {
    "collapsed": true
   },
   "outputs": [],
   "source": [
    "import pandas as pd\n",
    "import numpy as np"
   ]
  },
  {
   "cell_type": "code",
   "execution_count": 19,
   "metadata": {},
   "outputs": [
    {
     "data": {
      "text/plain": [
       "drug_name\n",
       "ANASTROZOLE                  624578\n",
       "LETROZOLE                    288358\n",
       "TAMOXIFEN CITRATE            204889\n",
       "HYDROCODONE-ACETAMINOPHEN    198792\n",
       "DEXAMETHASONE                193132\n",
       "HYDROXYUREA                  177111\n",
       "PREDNISONE                   177009\n",
       "ONDANSETRON HCL              167238\n",
       "WARFARIN SODIUM              143918\n",
       "PROCHLORPERAZINE MALEATE     140402\n",
       "REVLIMID                     138947\n",
       "OXYCODONE HCL                137541\n",
       "GABAPENTIN                   127694\n",
       "ACYCLOVIR                    108530\n",
       "EXEMESTANE                   102476\n",
       "LORAZEPAM                     98193\n",
       "OMEPRAZOLE                    91267\n",
       "XARELTO                       90100\n",
       "POTASSIUM CHLORIDE            82221\n",
       "OXYCODONE-ACETAMINOPHEN       79274\n",
       "Name: total_claim_count, dtype: int64"
      ]
     },
     "execution_count": 19,
     "metadata": {},
     "output_type": "execute_result"
    }
   ],
   "source": [
    "df = pd.read_csv('data/partd_heme-onc_16.txt', delimiter='\\t')\n",
    "cols = pd.read_csv('data/CMS_PartD_Prescriber_NPI_Drug_CY2016_100.txt', delimiter='\\t').columns\n",
    "df.columns = cols\n",
    "\n",
    "df.groupby('drug_name').total_claim_count.sum().sort_values(ascending=False)[:20]"
   ]
  },
  {
   "cell_type": "code",
   "execution_count": null,
   "metadata": {
    "collapsed": true
   },
   "outputs": [],
   "source": [
    "GLEEVEC, REVLIMID, IBRANCE, JAKAFI, TARCEVA, TASIGNA, SPRYCEL, IMATINIB MESYLATE "
   ]
  },
  {
   "cell_type": "code",
   "execution_count": 59,
   "metadata": {},
   "outputs": [
    {
     "data": {
      "text/html": [
       "<div>\n",
       "<style>\n",
       "    .dataframe thead tr:only-child th {\n",
       "        text-align: right;\n",
       "    }\n",
       "\n",
       "    .dataframe thead th {\n",
       "        text-align: left;\n",
       "    }\n",
       "\n",
       "    .dataframe tbody tr th {\n",
       "        vertical-align: top;\n",
       "    }\n",
       "</style>\n",
       "<table border=\"1\" class=\"dataframe\">\n",
       "  <thead>\n",
       "    <tr style=\"text-align: right;\">\n",
       "      <th></th>\n",
       "      <th>HCPCS_CODE</th>\n",
       "      <th>LINE_SRVC_CNT</th>\n",
       "      <th>HCPCS_DESCRIPTION</th>\n",
       "    </tr>\n",
       "  </thead>\n",
       "  <tbody>\n",
       "    <tr>\n",
       "      <th>0</th>\n",
       "      <td>J1439</td>\n",
       "      <td>29870319.0</td>\n",
       "      <td>Injection, ferric carboxymaltose, 1 mg</td>\n",
       "    </tr>\n",
       "    <tr>\n",
       "      <th>1</th>\n",
       "      <td>J0881</td>\n",
       "      <td>24118655.0</td>\n",
       "      <td>Injection, darbepoetin alfa, 1 microgram (non-...</td>\n",
       "    </tr>\n",
       "    <tr>\n",
       "      <th>2</th>\n",
       "      <td>J1442</td>\n",
       "      <td>22222299.0</td>\n",
       "      <td>Injection, filgrastim (g-csf), excludes biosim...</td>\n",
       "    </tr>\n",
       "    <tr>\n",
       "      <th>3</th>\n",
       "      <td>Q0138</td>\n",
       "      <td>19130003.0</td>\n",
       "      <td>Injection, ferumoxytol, for treatment of iron ...</td>\n",
       "    </tr>\n",
       "    <tr>\n",
       "      <th>4</th>\n",
       "      <td>J0897</td>\n",
       "      <td>12392081.0</td>\n",
       "      <td>Injection, denosumab, 1 mg</td>\n",
       "    </tr>\n",
       "  </tbody>\n",
       "</table>\n",
       "</div>"
      ],
      "text/plain": [
       "  HCPCS_CODE  LINE_SRVC_CNT                                  HCPCS_DESCRIPTION\n",
       "0      J1439     29870319.0             Injection, ferric carboxymaltose, 1 mg\n",
       "1      J0881     24118655.0  Injection, darbepoetin alfa, 1 microgram (non-...\n",
       "2      J1442     22222299.0  Injection, filgrastim (g-csf), excludes biosim...\n",
       "3      Q0138     19130003.0  Injection, ferumoxytol, for treatment of iron ...\n",
       "4      J0897     12392081.0                         Injection, denosumab, 1 mg"
      ]
     },
     "execution_count": 59,
     "metadata": {},
     "output_type": "execute_result"
    }
   ],
   "source": [
    "df2 = pd.read_csv('data/partb_heme-onc_16.txt', delimiter='\\t')\n",
    "cols2 = pd.read_csv('data/CMS_PartB_Provider_Util_Payment_CY2016_100.txt', delimiter='\\t').columns\n",
    "df2.columns = cols2\n",
    "\n",
    "LSC = pd.DataFrame(df2.groupby('HCPCS_CODE')['LINE_SRVC_CNT'].sum().sort_values(ascending=False))\n",
    "LSC.reset_index(inplace=True)\n",
    "df3 = pd.merge(LSC, df2[['HCPCS_CODE', 'HCPCS_DESCRIPTION']], on='HCPCS_CODE', how='left')\n",
    "df3 = df3.drop_duplicates().reset_index().drop('index', axis=1)\n",
    "df3.head()"
   ]
  },
  {
   "cell_type": "code",
   "execution_count": 21,
   "metadata": {},
   "outputs": [
    {
     "data": {
      "text/plain": [
       "Index(['NPI', 'NPPES_PROVIDER_LAST_ORG_NAME', 'NPPES_PROVIDER_FIRST_NAME',\n",
       "       'NPPES_PROVIDER_MI', 'NPPES_CREDENTIALS', 'NPPES_PROVIDER_GENDER',\n",
       "       'NPPES_ENTITY_CODE', 'NPPES_PROVIDER_STREET1', 'NPPES_PROVIDER_STREET2',\n",
       "       'NPPES_PROVIDER_CITY', 'NPPES_PROVIDER_ZIP', 'NPPES_PROVIDER_STATE',\n",
       "       'NPPES_PROVIDER_COUNTRY', 'PROVIDER_TYPE',\n",
       "       'MEDICARE_PARTICIPATION_INDICATOR', 'PLACE_OF_SERVICE', 'HCPCS_CODE',\n",
       "       'HCPCS_DESCRIPTION', 'HCPCS_DRUG_INDICATOR', 'LINE_SRVC_CNT',\n",
       "       'BENE_UNIQUE_CNT', 'BENE_DAY_SRVC_CNT', 'AVERAGE_MEDICARE_ALLOWED_AMT',\n",
       "       'AVERAGE_SUBMITTED_CHRG_AMT', 'AVERAGE_MEDICARE_PAYMENT_AMT',\n",
       "       'AVERAGE_MEDICARE_STANDARD_AMT'],\n",
       "      dtype='object')"
      ]
     },
     "execution_count": 21,
     "metadata": {},
     "output_type": "execute_result"
    }
   ],
   "source": [
    "trastuzumab, paclitaxel, bevacizumab, bortezomib, nivolumab"
   ]
  },
  {
   "cell_type": "code",
   "execution_count": null,
   "metadata": {
    "collapsed": true
   },
   "outputs": [],
   "source": [
    "GLEEVEC, REVLIMID, IBRANCE, JAKAFI, TARCEVA, TASIGNA, SPRYCEL, IMATINIB MESYLATE "
   ]
  },
  {
   "cell_type": "code",
   "execution_count": 80,
   "metadata": {},
   "outputs": [
    {
     "data": {
      "text/html": [
       "<div>\n",
       "<style>\n",
       "    .dataframe thead tr:only-child th {\n",
       "        text-align: right;\n",
       "    }\n",
       "\n",
       "    .dataframe thead th {\n",
       "        text-align: left;\n",
       "    }\n",
       "\n",
       "    .dataframe tbody tr th {\n",
       "        vertical-align: top;\n",
       "    }\n",
       "</style>\n",
       "<table border=\"1\" class=\"dataframe\">\n",
       "  <thead>\n",
       "    <tr style=\"text-align: right;\">\n",
       "      <th></th>\n",
       "      <th>npi</th>\n",
       "      <th>GLEEVEC</th>\n",
       "      <th>REVLIMID</th>\n",
       "      <th>IBRANCE</th>\n",
       "      <th>JAKAFI</th>\n",
       "      <th>TARCEVA</th>\n",
       "      <th>TASIGNA</th>\n",
       "      <th>SPRYCEL</th>\n",
       "      <th>IMATINIB MESYLATE</th>\n",
       "    </tr>\n",
       "  </thead>\n",
       "  <tbody>\n",
       "    <tr>\n",
       "      <th>0</th>\n",
       "      <td>1003803685</td>\n",
       "      <td>21.0</td>\n",
       "      <td>18.0</td>\n",
       "      <td>0.0</td>\n",
       "      <td>12.0</td>\n",
       "      <td>0.0</td>\n",
       "      <td>0.0</td>\n",
       "      <td>29.0</td>\n",
       "      <td>0.0</td>\n",
       "    </tr>\n",
       "    <tr>\n",
       "      <th>1</th>\n",
       "      <td>1003804204</td>\n",
       "      <td>15.0</td>\n",
       "      <td>59.0</td>\n",
       "      <td>18.0</td>\n",
       "      <td>0.0</td>\n",
       "      <td>11.0</td>\n",
       "      <td>0.0</td>\n",
       "      <td>0.0</td>\n",
       "      <td>0.0</td>\n",
       "    </tr>\n",
       "    <tr>\n",
       "      <th>2</th>\n",
       "      <td>1003804287</td>\n",
       "      <td>14.0</td>\n",
       "      <td>107.0</td>\n",
       "      <td>0.0</td>\n",
       "      <td>0.0</td>\n",
       "      <td>0.0</td>\n",
       "      <td>0.0</td>\n",
       "      <td>0.0</td>\n",
       "      <td>33.0</td>\n",
       "    </tr>\n",
       "    <tr>\n",
       "      <th>3</th>\n",
       "      <td>1003807355</td>\n",
       "      <td>16.0</td>\n",
       "      <td>41.0</td>\n",
       "      <td>0.0</td>\n",
       "      <td>0.0</td>\n",
       "      <td>0.0</td>\n",
       "      <td>19.0</td>\n",
       "      <td>0.0</td>\n",
       "      <td>0.0</td>\n",
       "    </tr>\n",
       "    <tr>\n",
       "      <th>4</th>\n",
       "      <td>1003810383</td>\n",
       "      <td>26.0</td>\n",
       "      <td>0.0</td>\n",
       "      <td>0.0</td>\n",
       "      <td>0.0</td>\n",
       "      <td>0.0</td>\n",
       "      <td>0.0</td>\n",
       "      <td>0.0</td>\n",
       "      <td>0.0</td>\n",
       "    </tr>\n",
       "  </tbody>\n",
       "</table>\n",
       "</div>"
      ],
      "text/plain": [
       "          npi  GLEEVEC  REVLIMID  IBRANCE  JAKAFI  TARCEVA  TASIGNA  SPRYCEL  \\\n",
       "0  1003803685     21.0      18.0      0.0    12.0      0.0      0.0     29.0   \n",
       "1  1003804204     15.0      59.0     18.0     0.0     11.0      0.0      0.0   \n",
       "2  1003804287     14.0     107.0      0.0     0.0      0.0      0.0      0.0   \n",
       "3  1003807355     16.0      41.0      0.0     0.0      0.0     19.0      0.0   \n",
       "4  1003810383     26.0       0.0      0.0     0.0      0.0      0.0      0.0   \n",
       "\n",
       "   IMATINIB MESYLATE  \n",
       "0                0.0  \n",
       "1                0.0  \n",
       "2               33.0  \n",
       "3                0.0  \n",
       "4                0.0  "
      ]
     },
     "execution_count": 80,
     "metadata": {},
     "output_type": "execute_result"
    }
   ],
   "source": [
    "drugs = ['GLEEVEC', 'REVLIMID', 'IBRANCE', 'JAKAFI', 'TARCEVA', 'TASIGNA', 'SPRYCEL', 'IMATINIB MESYLATE']\n",
    "#drugs = ['GLEEVEC']\n",
    "partd_df = pd.DataFrame(columns=['npi'])\n",
    "for drug in drugs:\n",
    "    drug_df = df.loc[df['drug_name'] == drug, ['npi', 'total_claim_count']]\n",
    "    drug_df.columns = ['npi', drug]\n",
    "    partd_df = pd.merge(partd_df, drug_df, on='npi', how='outer')\n",
    "    \n",
    "partd_df.fillna(0, inplace=True)\n",
    "partd_df.head()"
   ]
  },
  {
   "cell_type": "code",
   "execution_count": 81,
   "metadata": {
    "collapsed": true
   },
   "outputs": [],
   "source": [
    "from sklearn.cluster import KMeans"
   ]
  },
  {
   "cell_type": "code",
   "execution_count": 85,
   "metadata": {},
   "outputs": [
    {
     "data": {
      "text/plain": [
       "KMeans(algorithm='auto', copy_x=True, init='k-means++', max_iter=300,\n",
       "    n_clusters=8, n_init=10, n_jobs=1, precompute_distances='auto',\n",
       "    random_state=None, tol=0.0001, verbose=0)"
      ]
     },
     "execution_count": 85,
     "metadata": {},
     "output_type": "execute_result"
    }
   ],
   "source": [
    "km = KMeans(n_clusters=8)\n",
    "km.fit(partd_df)"
   ]
  },
  {
   "cell_type": "code",
   "execution_count": null,
   "metadata": {
    "collapsed": true
   },
   "outputs": [],
   "source": [
    "# Create PCA plot of clusters"
   ]
  }
 ],
 "metadata": {
  "kernelspec": {
   "display_name": "Python 3",
   "language": "python",
   "name": "python3"
  },
  "language_info": {
   "codemirror_mode": {
    "name": "ipython",
    "version": 3
   },
   "file_extension": ".py",
   "mimetype": "text/x-python",
   "name": "python",
   "nbconvert_exporter": "python",
   "pygments_lexer": "ipython3",
   "version": "3.6.3"
  }
 },
 "nbformat": 4,
 "nbformat_minor": 2
}
