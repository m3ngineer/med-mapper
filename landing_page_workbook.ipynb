{
 "cells": [
  {
   "cell_type": "code",
   "execution_count": 27,
   "metadata": {},
   "outputs": [
    {
     "name": "stdout",
     "output_type": "stream",
     "text": [
      "The autoreload extension is already loaded. To reload it, use:\n",
      "  %reload_ext autoreload\n"
     ]
    }
   ],
   "source": [
    "%load_ext autoreload\n",
    "%autoreload 2\n",
    "%matplotlib inline"
   ]
  },
  {
   "cell_type": "code",
   "execution_count": 4,
   "metadata": {},
   "outputs": [],
   "source": [
    "from src.dashboard import *\n",
    "from src.model import *"
   ]
  },
  {
   "cell_type": "code",
   "execution_count": 10,
   "metadata": {},
   "outputs": [],
   "source": [
    "prescriber_data_16 = pd.read_csv('data/heme-onc_d_16.csv', delimiter='\\t')\n",
    "prescriber_data_15 = pd.read_csv('data/heme-onc_d_15.csv', delimiter='\\t')\n",
    "prescriber_data_14 = pd.read_csv('data/heme-onc_d_14.csv', delimiter='\\t')"
   ]
  },
  {
   "cell_type": "code",
   "execution_count": 38,
   "metadata": {},
   "outputs": [
    {
     "data": {
      "image/png": "[encoded data removed]",
      "text/plain": [
       "<Figure size 432x288 with 1 Axes>"
      ]
     },
     "metadata": {},
     "output_type": "display_data"
    }
   ],
   "source": [
    "# Identify prescribing trends for a target drug\n",
    "all_datasets = [prescriber_data_14, prescriber_data_15, prescriber_data_16]\n",
    "target = 'IMBRUVICA'\n",
    "\n",
    "target_num_prescribers = []\n",
    "target_spending = []\n",
    "target_num_claims = []\n",
    "\n",
    "for dataset in all_datasets:\n",
    "    target_num_prescribers.append((dataset['drug_name'] == target).sum())\n",
    "    target_spending.append(dataset.loc[dataset['drug_name'] == target, 'total_drug_cost'].sum())\n",
    "    target_num_claims.append(dataset.loc[dataset['drug_name'] == target, 'total_claim_count'].sum())\n",
    "\n",
    "x = np.arange(2014,2017,1, dtype='int')\n",
    "plt.plot(x,target_num_claims)\n",
    "plt.xticks([2014, 2015, 2016]);"
   ]
  },
  {
   "cell_type": "code",
   "execution_count": 18,
   "metadata": {},
   "outputs": [
    {
     "data": {
      "text/plain": [
       "70944"
      ]
     },
     "execution_count": 18,
     "metadata": {},
     "output_type": "execute_result"
    }
   ],
   "source": []
  }
 ],
 "metadata": {
  "kernelspec": {
   "display_name": "Python 3",
   "language": "python",
   "name": "python3"
  },
  "language_info": {
   "codemirror_mode": {
    "name": "ipython",
    "version": 3
   },
   "file_extension": ".py",
   "mimetype": "text/x-python",
   "name": "python",
   "nbconvert_exporter": "python",
   "pygments_lexer": "ipython3",
   "version": "3.6.3"
  }
 },
 "nbformat": 4,
 "nbformat_minor": 2
}
